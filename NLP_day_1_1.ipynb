{
  "nbformat": 4,
  "nbformat_minor": 0,
  "metadata": {
    "colab": {
      "provenance": []
    },
    "kernelspec": {
      "name": "python3",
      "display_name": "Python 3"
    },
    "language_info": {
      "name": "python"
    }
  },
  "cells": [
    {
      "cell_type": "markdown",
      "source": [
        "# Introduction to Python\n",
        "\n",
        "Python is a general-purpose interpreted, interactive, object-oriented, and high-level programming language.\n",
        "Portable,\n",
        "Extendable, ...\n"
      ],
      "metadata": {
        "id": "kLqTUPIDGDgP"
      }
    },
    {
      "cell_type": "code",
      "execution_count": null,
      "metadata": {
        "colab": {
          "base_uri": "https://localhost:8080/"
        },
        "id": "d5o0jknYFv6P",
        "outputId": "6ef8a321-1863-47bc-c6c6-0c54f0576450"
      },
      "outputs": [
        {
          "output_type": "stream",
          "name": "stdout",
          "text": [
            "Hello World!\n"
          ]
        }
      ],
      "source": [
        "print('Hello World!')"
      ]
    },
    {
      "cell_type": "code",
      "source": [
        "if True:\n",
        "  print('True')\n",
        "else:\n",
        "  print('False')"
      ],
      "metadata": {
        "colab": {
          "base_uri": "https://localhost:8080/"
        },
        "id": "3qbRxazSHob9",
        "outputId": "9c549a75-7a2b-47e6-82cf-f4cf65c2cdd8"
      },
      "execution_count": null,
      "outputs": [
        {
          "output_type": "stream",
          "name": "stdout",
          "text": [
            "True\n"
          ]
        }
      ]
    },
    {
      "cell_type": "markdown",
      "source": [
        "**Function in python**"
      ],
      "metadata": {
        "id": "nc435HJKD92o"
      }
    },
    {
      "cell_type": "code",
      "source": [
        "def printinfo(name, age):\n",
        "  print('Name :',name)\n",
        "  print('Age :',age)\n",
        "  return\n",
        "\n",
        "printinfo(age = 50, name = 'Dada')"
      ],
      "metadata": {
        "id": "jMzB0Ug4D5yA",
        "colab": {
          "base_uri": "https://localhost:8080/"
        },
        "outputId": "48fee7c9-9954-4a7f-c852-b5ecb142ed29"
      },
      "execution_count": null,
      "outputs": [
        {
          "output_type": "stream",
          "name": "stdout",
          "text": [
            "Name : Dada\n",
            "Age : 50\n"
          ]
        }
      ]
    },
    {
      "cell_type": "markdown",
      "source": [
        "**Class in Python**"
      ],
      "metadata": {
        "id": "4e3C_8u9EkOh"
      }
    },
    {
      "cell_type": "code",
      "source": [
        "class Employee():\n",
        "  empcount = 0\n",
        "\n",
        "  def __init__(self, name, salary):\n",
        "    self.name = name\n",
        "    self.salary = salary\n",
        "    Employee.empcount += 1\n",
        "  \n",
        "  def displaycount(self):\n",
        "    print(f'Total Employee : {Employee.empcount}')\n",
        "\n",
        "  def displayemployee(self):\n",
        "    print('Name: ',self.name,'salary:',self.salary)\n",
        "\n",
        "\n",
        "emp1 = Employee('Zara', 2000)\n",
        "emp2 = Employee('Manni', 3000)\n",
        "\n",
        "emp1.displayemployee()\n",
        "emp2.displayemployee()\n",
        "\n",
        "emp2.displaycount()"
      ],
      "metadata": {
        "id": "-J2I4Xn8Eor1",
        "colab": {
          "base_uri": "https://localhost:8080/"
        },
        "outputId": "f1d8c1b8-e6c8-4da8-8c3d-d2e9ad02b173"
      },
      "execution_count": null,
      "outputs": [
        {
          "output_type": "stream",
          "name": "stdout",
          "text": [
            "Name:  Zara salary: 2000\n",
            "Name:  Manni salary: 3000\n",
            "Total Employee : 2\n"
          ]
        }
      ]
    },
    {
      "cell_type": "markdown",
      "source": [
        "# Data Types\n",
        "\n",
        "1. Numbers\n",
        "2. String\n",
        "3. List\n",
        "4. Tuple\n",
        "5. Dictionary"
      ],
      "metadata": {
        "id": "98rTrR1BZsnH"
      }
    },
    {
      "cell_type": "markdown",
      "source": [
        "**1. Number** --> Number data types stores numeric values and\n",
        " are immutable (changing the values result in new allocation  of object.)\n",
        "\n",
        "\n",
        "1.   int\n",
        "2.   float\n",
        "3.   complex\n",
        "\n",
        "\n"
      ],
      "metadata": {
        "id": "Fd-w-WKfbAEx"
      }
    },
    {
      "cell_type": "code",
      "source": [
        "a = 10\n",
        "b = 4\n",
        "\n",
        "print(f'Data type of a : {type(a)}')  #Print the data type\n",
        "\n",
        "#Addition\n",
        "c = a + b\n",
        "print(f'Addition of {a} and {b}: {c}')\n",
        "\n",
        "#Substraction\n",
        "d = a - b\n",
        "print(f'Substraction of {a} and {b}: {d}')\n",
        "\n",
        "#Multiplication\n",
        "e = a * b\n",
        "print(f'Multiplication of {a} and {b}: {e}')\n",
        "\n",
        "#Division\n",
        "f = a / b\n",
        "print(f'Division of {a} and {b}: {f}')\n",
        "\n",
        "#Exponent\n",
        "g = a ** b\n",
        "print(f'Exponent of {a} and {b}: {g}')\n",
        "\n",
        "#Float data type\n",
        "print(type(f))  #Print the data type\n",
        "\n",
        "#Complex data type\n",
        "\n",
        "num1 = 1 + 5j\n",
        "num2 = 2 + 3j\n",
        "\n",
        "print(f'Data type of num1 : {type(num1)}')  #Print the data type\n",
        "\n",
        "c_add = num1 + num2\n",
        "print(f'Addition of {num1} and {num2}: {c_add}')\n",
        "\n",
        "print(f'Data type of c_add : {type(c_add)}')  #Print the data type\n"
      ],
      "metadata": {
        "id": "yKezAGGzf5up",
        "colab": {
          "base_uri": "https://localhost:8080/"
        },
        "outputId": "e1d7696b-2388-4501-8dad-3bc6def35e54"
      },
      "execution_count": null,
      "outputs": [
        {
          "output_type": "stream",
          "name": "stdout",
          "text": [
            "Data type of a : <class 'int'>\n",
            "Addition of 10 and 4: 14\n",
            "Substraction of 10 and 4: 6\n",
            "Multiplication of 10 and 4: 40\n",
            "Division of 10 and 4: 2.5\n",
            "Exponent of 10 and 4: 10000\n",
            "<class 'float'>\n",
            "Data type of num1 : <class 'complex'>\n",
            "Addition of (1+5j) and (2+3j): (3+8j)\n",
            "Data type of c_add : <class 'complex'>\n"
          ]
        }
      ]
    },
    {
      "cell_type": "markdown",
      "source": [
        "**2. String** --> String are sequence of bytes. It accepts single, double and triple quotes to denote string literals."
      ],
      "metadata": {
        "id": "_osVQzQrjLup"
      }
    },
    {
      "cell_type": "code",
      "source": [
        "word = 'words'\n",
        "sentence = \"This is a sentence\"\n",
        "\n",
        "print(word)\n",
        "\n",
        "a = 'hello'\n",
        "b = 'world'\n",
        "print(a+b)\n"
      ],
      "metadata": {
        "id": "6i0ciXtjlY5u",
        "colab": {
          "base_uri": "https://localhost:8080/"
        },
        "outputId": "baf4ea54-9b14-4820-b89d-ea4a4ef4b4d6"
      },
      "execution_count": null,
      "outputs": [
        {
          "output_type": "stream",
          "name": "stdout",
          "text": [
            "words\n",
            "helloworld\n"
          ]
        }
      ]
    },
    {
      "cell_type": "markdown",
      "source": [
        "**3. List** --> List contains items seperated by commas and enclosed within square barcket."
      ],
      "metadata": {
        "id": "X1d2XlV7l_EQ"
      }
    },
    {
      "cell_type": "code",
      "source": [
        "mylist = [3,5,4,0,'hello']\n",
        "print(f'mylist: {mylist} and data type : {type(mylist)}')\n",
        "\n",
        "newlist1 = [3,[5,4,0,],'hello',[7,4,1]]\n",
        "\n",
        "print(f'First element of newlist1 : {newlist1[0]}') #print the first element of the list\n",
        "print(f'Last element of newlist1 : {newlist1[-1]}') #print the last element of the list\n",
        "\n",
        "#Slice Operator\n",
        "\n",
        "print(f'First three element of newlist1 : {newlist1[0:3]}')    #inclusive of start index and exclusive of end index\n",
        "\n",
        "print(f'First three element of newlist1 with 2 steps : {newlist1[0:4:2]}')   #behaves as [start : stop : step]\n",
        "\n",
        "print(f'Reverse the element of newlist1 : {newlist1[ : :-1]}')   #Reverse the element of list\n",
        "\n",
        "\n",
        "# Comaparing list\n",
        "\n",
        "a = [1,2,3,4]\n",
        "b = [1,2,3,4]\n",
        "\n",
        "print(a==b)\n",
        "\n",
        "print(f'Length of a : {len(a)}')\n",
        "print(f'Max value of a : {max(a)}')\n",
        "print(f'Min value of a : {min(a)}')"
      ],
      "metadata": {
        "id": "0neDQAN_lv7b",
        "colab": {
          "base_uri": "https://localhost:8080/"
        },
        "outputId": "6677db7a-fcf8-4286-f023-f80e18e6363a"
      },
      "execution_count": null,
      "outputs": [
        {
          "output_type": "stream",
          "name": "stdout",
          "text": [
            "mylist: [3, 5, 4, 0, 'hello'] and data type : <class 'list'>\n",
            "First element of newlist1 : 3\n",
            "Last element of newlist1 : [7, 4, 1]\n",
            "First three element of newlist1 : [3, [5, 4, 0], 'hello']\n",
            "First three element of newlist1 with 2 steps : [3, 'hello']\n",
            "Reverse the element of newlist1 : [[7, 4, 1], 'hello', [5, 4, 0], 3]\n",
            "True\n",
            "Length of a : 4\n",
            "Max value of a : 4\n",
            "Min value of a : 1\n"
          ]
        }
      ]
    },
    {
      "cell_type": "markdown",
      "source": [
        "**4. Tuple** --> Immutable list, it is a read-only and does not change. And defined using round brackets."
      ],
      "metadata": {
        "id": "DHrozXVdov4-"
      }
    },
    {
      "cell_type": "code",
      "source": [
        "mytuple = (3,5,4,0,'hello')\n",
        "print(f'mytuple: {mytuple} and data type : {type(mytuple)}')\n",
        "\n",
        "mytuple1 = [3,[5,4,0,],'hello',[7,4,1]]\n",
        "\n",
        "print(f'First element of mytuple : {mytuple[0]}') #print the first element of the tuple\n",
        "print(f'Last element of mytuple : {mytuple[-1]}') #print the last element of the tuple\n",
        "\n",
        "#Slice\n",
        "\n",
        "print(f'First three element of mytuple1 : {mytuple1[0:3]}')    #inclusive of start index and exclusive of end index\n",
        "print(f'First three element of mytuple1 with 2 steps : {mytuple1[0:4:2]}')   #behaves as [start : stop : step]\n",
        "\n",
        "print(f'mytuple 2 times : {mytuple * 2}')"
      ],
      "metadata": {
        "id": "dJD9z6Ooo-Pd",
        "colab": {
          "base_uri": "https://localhost:8080/"
        },
        "outputId": "2971a73a-bce3-4b10-cb43-5415ac0d8bc7"
      },
      "execution_count": null,
      "outputs": [
        {
          "output_type": "stream",
          "name": "stdout",
          "text": [
            "mytuple: (3, 5, 4, 0, 'hello') and data type : <class 'tuple'>\n",
            "First element of mytuple : 3\n",
            "Last element of mytuple : hello\n",
            "First three element of mytuple1 : [3, [5, 4, 0], 'hello']\n",
            "First three element of mytuple1 with 2 steps : [3, 'hello']\n",
            "mytuple 2 time : (3, 5, 4, 0, 'hello', 3, 5, 4, 0, 'hello')\n"
          ]
        }
      ]
    },
    {
      "cell_type": "markdown",
      "source": [
        "**5. Dictionary** --> Dictionaries are enclosed in curly braces.\n",
        "Consist of key-value pairs."
      ],
      "metadata": {
        "id": "YsmOv9d9qZoc"
      }
    },
    {
      "cell_type": "code",
      "source": [
        "months = {'Jan': 31, 'Feb': 28, 'Mar': 31, 'Apr': 30, 'May':31, 'Jun':30, 'Jul':31}\n",
        "\n",
        "print(f'Dictionary: {months} and data type : {type(months)}')\n",
        "\n",
        "dict1 = {} #initalize dictionary object as dict1\n",
        "\n",
        "dict1['one'] = 'This is one.'  #Here key is 'one' and value is 'This is one'.\n",
        "dict1['two'] = 'This is two.'\n",
        "dict1['three'] = 'This is three.'\n",
        "\n",
        "print(dict1['one']) \n",
        "\n",
        "print(f'All the values of dict1 :{dict1.values()}') #print all the values \n",
        "print(f'All the keys of dict1 :{dict1.keys()}') #print all the keys\n"
      ],
      "metadata": {
        "id": "acO_enJHqGYc",
        "colab": {
          "base_uri": "https://localhost:8080/"
        },
        "outputId": "985b4d76-516e-4bf5-c32b-c09467986dd8"
      },
      "execution_count": null,
      "outputs": [
        {
          "output_type": "stream",
          "name": "stdout",
          "text": [
            "Dictionary: {'Jan': 31, 'Feb': 28, 'Mar': 31, 'Apr': 30, 'May': 31, 'Jun': 30, 'Jul': 31} and data type : <class 'dict'>\n",
            "This is one.\n",
            "print all the values of dict1 :dict_values(['This is one.', 'This is two.', 'This is three.'])\n",
            "print all the keys of dict1 :dict_keys(['one', 'two', 'three'])\n"
          ]
        }
      ]
    },
    {
      "cell_type": "markdown",
      "source": [
        "# Dicision Making\n",
        "\n",
        "1. if statement\n",
        "2. if else statment\n",
        "3. elif statement"
      ],
      "metadata": {
        "id": "YRm0WSjDtiak"
      }
    },
    {
      "cell_type": "markdown",
      "source": [
        "**if statement**"
      ],
      "metadata": {
        "id": "Sstow3ppuOs0"
      }
    },
    {
      "cell_type": "code",
      "source": [
        "var1 = 100\n",
        "\n",
        "if var1:\n",
        "  print('1 : Got a true expression value')\n",
        "  print(var1)\n",
        "\n",
        "var2 = 0\n",
        "if var2:\n",
        "  print('2 : Got a true expression')\n",
        "  print(var2)\n",
        "print('Good bye!')"
      ],
      "metadata": {
        "id": "EV22VaMowMBY",
        "colab": {
          "base_uri": "https://localhost:8080/"
        },
        "outputId": "ca775f69-ccb0-481c-ea63-82b0534d3fe9"
      },
      "execution_count": null,
      "outputs": [
        {
          "output_type": "stream",
          "name": "stdout",
          "text": [
            "1 : Got a true expression value\n",
            "100\n",
            "Good bye!\n"
          ]
        }
      ]
    },
    {
      "cell_type": "markdown",
      "source": [
        "**if else statement**"
      ],
      "metadata": {
        "id": "ACsXUSvwwNHu"
      }
    },
    {
      "cell_type": "code",
      "source": [
        "num12 = 11\n",
        "if num12 < 13:\n",
        "  print(f'{num12} is less than 13.')\n",
        "\n",
        "else:\n",
        "  print(f'{num12} is greater than 13.')\n"
      ],
      "metadata": {
        "id": "OaWZYjSYwg7m",
        "colab": {
          "base_uri": "https://localhost:8080/"
        },
        "outputId": "301d5617-6e4b-4ac6-d8de-256fb71c5f20"
      },
      "execution_count": null,
      "outputs": [
        {
          "output_type": "stream",
          "name": "stdout",
          "text": [
            "11 is less than 13.\n"
          ]
        }
      ]
    },
    {
      "cell_type": "markdown",
      "source": [
        "**elif statement**"
      ],
      "metadata": {
        "id": "9dRIb1yHxFiy"
      }
    },
    {
      "cell_type": "code",
      "source": [
        "num12 = 15\n",
        "if num12 < 13:\n",
        "  print(f'{num12} is less than 13.')\n",
        "\n",
        "elif num12 < 20:\n",
        "  print(f'{num12} is less than 20.')\n",
        "\n",
        "else:\n",
        "  print(f'{num12} is greater than 20.')\n"
      ],
      "metadata": {
        "id": "fNwYlcUGxKA5",
        "colab": {
          "base_uri": "https://localhost:8080/"
        },
        "outputId": "4ba8f801-8ced-474a-a83c-0e89297e9f21"
      },
      "execution_count": null,
      "outputs": [
        {
          "output_type": "stream",
          "name": "stdout",
          "text": [
            "15 is less than 20.\n"
          ]
        }
      ]
    },
    {
      "cell_type": "markdown",
      "source": [
        "# Loop construction\n",
        "\n",
        "1. While loop\n",
        "2. For loop\n",
        "3. Use else with while loop\n",
        "4. Range function\n",
        "5. Enumerate\n",
        "\n"
      ],
      "metadata": {
        "id": "GTkP3ZALyJ0E"
      }
    },
    {
      "cell_type": "markdown",
      "source": [
        "**1. While loop** --> Iterate over a block of code as long as the test expression is true."
      ],
      "metadata": {
        "id": "0EBKWUTfyymg"
      }
    },
    {
      "cell_type": "code",
      "source": [
        "count = 0\n",
        "while (count < 5):\n",
        "  print(f'This count is: {count}')\n",
        "  count = count + 1\n",
        "print('Good bye!')"
      ],
      "metadata": {
        "id": "5ZIAJVSmz432",
        "colab": {
          "base_uri": "https://localhost:8080/"
        },
        "outputId": "51d2ef1c-ae69-42bc-bfd4-5e32c93ef633"
      },
      "execution_count": null,
      "outputs": [
        {
          "output_type": "stream",
          "name": "stdout",
          "text": [
            "This count is: 0\n",
            "This count is: 1\n",
            "This count is: 2\n",
            "This count is: 3\n",
            "This count is: 4\n",
            "Good bye!\n"
          ]
        }
      ]
    },
    {
      "cell_type": "markdown",
      "source": [
        "**2. For loop** --> Iterate over a sequence (list, tuple, dictionary, string)."
      ],
      "metadata": {
        "id": "Frp__4BG1sHR"
      }
    },
    {
      "cell_type": "code",
      "source": [
        "for count in range(5):\n",
        "  print(f'This count is: {count}')"
      ],
      "metadata": {
        "id": "Li_cEOGu0wml",
        "colab": {
          "base_uri": "https://localhost:8080/"
        },
        "outputId": "155841cc-2908-4771-d98f-3e2723521d8a"
      },
      "execution_count": null,
      "outputs": [
        {
          "output_type": "stream",
          "name": "stdout",
          "text": [
            "This count is: 0\n",
            "This count is: 1\n",
            "This count is: 2\n",
            "This count is: 3\n",
            "This count is: 4\n"
          ]
        }
      ]
    },
    {
      "cell_type": "markdown",
      "source": [
        "**3. Else with while loop**"
      ],
      "metadata": {
        "id": "mmmJq3UX2xp0"
      }
    },
    {
      "cell_type": "code",
      "source": [
        "count = 0\n",
        "while count < 5:\n",
        "  print(f'{count} is less than 5')\n",
        "  count = count + 1\n",
        "else:\n",
        "  print(f'{count} is not less than 5')\n"
      ],
      "metadata": {
        "id": "1b92ljxR2weL",
        "colab": {
          "base_uri": "https://localhost:8080/"
        },
        "outputId": "72ab8240-a40b-4ef2-8477-a8042b7e8aaa"
      },
      "execution_count": null,
      "outputs": [
        {
          "output_type": "stream",
          "name": "stdout",
          "text": [
            "0 is less than 5\n",
            "1 is less than 5\n",
            "2 is less than 5\n",
            "3 is less than 5\n",
            "4 is less than 5\n",
            "5 is not less than 5\n"
          ]
        }
      ]
    },
    {
      "cell_type": "markdown",
      "source": [
        "**4. Range** --> Generate an iterator to progress integers starting with **a** to **n-1**."
      ],
      "metadata": {
        "id": "FtqdOFDr3Sz1"
      }
    },
    {
      "cell_type": "code",
      "source": [
        "a = 3\n",
        "b = 10\n",
        "\n",
        "gap = 2\n",
        "\n",
        "print(f'List with range of {a} and {b-1} :{list(range(a,b))}')\n",
        "\n",
        "print(f'List with range of {a} and {b-1} with gap of {gap} :{list(range(a,b,gap))}')\n",
        "\n",
        "print(f'List with range starting from 0 to and {b-1} :{list(range(a,b))}')    # print the value starting from 0 to b-1."
      ],
      "metadata": {
        "id": "CJG-v5zW3RuN",
        "colab": {
          "base_uri": "https://localhost:8080/"
        },
        "outputId": "7de6fc59-7ca0-4cb3-ac6b-f6d5a250f763"
      },
      "execution_count": null,
      "outputs": [
        {
          "output_type": "stream",
          "name": "stdout",
          "text": [
            "List with range of 3 and 9 :[3, 4, 5, 6, 7, 8, 9]\n",
            "List with range of 3 and 9 with gap of 2 :[3, 5, 7, 9]\n",
            "List with range starting from 0 to and 9 :[3, 4, 5, 6, 7, 8, 9]\n"
          ]
        }
      ]
    },
    {
      "cell_type": "markdown",
      "source": [
        "**5. Enumerate** --> When we required values with iterator, Enumerate is used."
      ],
      "metadata": {
        "id": "ORGLScoVIv0W"
      }
    },
    {
      "cell_type": "code",
      "source": [
        "mylist12 = ['This','boy','is','my','son']\n",
        "\n",
        "print(list(enumerate(mylist12)))\n",
        "\n",
        "for count, values in enumerate(mylist12,5):#2nd parameter can be started from user defined value\n",
        "   print(count, values)\n"
      ],
      "metadata": {
        "id": "m6aU5lu-I2mx",
        "colab": {
          "base_uri": "https://localhost:8080/"
        },
        "outputId": "5e726cdf-d74a-4ea3-9e90-7428145ed582"
      },
      "execution_count": null,
      "outputs": [
        {
          "output_type": "stream",
          "name": "stdout",
          "text": [
            "[(0, 'This'), (1, 'boy'), (2, 'is'), (3, 'my'), (4, 'son')]\n",
            "5 This\n",
            "6 boy\n",
            "7 is\n",
            "8 my\n",
            "9 son\n"
          ]
        }
      ]
    },
    {
      "cell_type": "markdown",
      "source": [
        "# Reading and Writing Files"
      ],
      "metadata": {
        "id": "0DfnPSbt5eKD"
      }
    },
    {
      "cell_type": "markdown",
      "source": [
        "**1. Opening a file in read mode**\n",
        "\n",
        "\n"
      ],
      "metadata": {
        "id": "NNJ5RhYR6I1M"
      }
    },
    {
      "cell_type": "code",
      "source": [
        "# Connecting to google drive\n",
        "from google.colab import drive\n",
        "drive.mount('/content/gdrive')"
      ],
      "metadata": {
        "id": "0_Eu3XEhMVq6"
      },
      "execution_count": null,
      "outputs": []
    },
    {
      "cell_type": "code",
      "source": [
        "path = '/content/gdrive/MyDrive/FDP_NLP/'\n",
        "\n",
        "fobj = open(path+'sample.txt','r') \n",
        "for line in fobj:\n",
        "  print(line.rstrip())\n",
        "\n",
        "fobj.close()"
      ],
      "metadata": {
        "id": "JLM80UDg6gCN"
      },
      "execution_count": null,
      "outputs": []
    },
    {
      "cell_type": "markdown",
      "source": [
        "**2. Writing a file**"
      ],
      "metadata": {
        "id": "Br6EWY_a62Eg"
      }
    },
    {
      "cell_type": "code",
      "source": [
        "fh = open(path +'write_sample.txt','w')\n",
        "fh.write('This sentence is written sentence \\n by using the write function')\n",
        "fh.close()\n",
        "\n",
        "with open(path+'write_sample.txt','w') as fh:\n",
        "  fh.write('This is second sentence written in file by using the write function')"
      ],
      "metadata": {
        "id": "SiQH3zdZ7KE0"
      },
      "execution_count": null,
      "outputs": []
    },
    {
      "cell_type": "markdown",
      "source": [
        "**3. Simulataneous Read and Write**"
      ],
      "metadata": {
        "id": "eMURScXx8XBO"
      }
    },
    {
      "cell_type": "code",
      "source": [
        "fobj_in = open(path+'sample.txt')\n",
        "fobj_out = open(path+'sample_copy.txt','w')\n",
        "i = 1\n",
        "for line in fobj_in:\n",
        "  print(line.rstrip())\n",
        "  fobj_out.write(str(i) + \":\" + line)  #don't rstrip line while writing\n",
        "  i = i+1\n",
        "fobj_in.close()\n",
        "fobj_out.close()"
      ],
      "metadata": {
        "id": "f4Ia-f4x8deo",
        "colab": {
          "base_uri": "https://localhost:8080/"
        },
        "outputId": "bb85cc7a-6990-4c79-c42d-6bd1106c1212"
      },
      "execution_count": null,
      "outputs": [
        {
          "output_type": "stream",
          "name": "stdout",
          "text": [
            "Roses are red, sky is blue.\n",
            "Sugar is sweet, and so are you.\n"
          ]
        }
      ]
    },
    {
      "cell_type": "markdown",
      "source": [
        "**4. Reading file in one go**"
      ],
      "metadata": {
        "id": "qy3U7eiD9bbw"
      }
    },
    {
      "cell_type": "code",
      "source": [
        "sample = open(path+'write_sample.txt').readlines()\n",
        "print(sample)"
      ],
      "metadata": {
        "id": "vtfeUwMU9gjy",
        "colab": {
          "base_uri": "https://localhost:8080/"
        },
        "outputId": "9800d740-1131-4929-aa81-dd3a18da31e4"
      },
      "execution_count": null,
      "outputs": [
        {
          "output_type": "stream",
          "name": "stdout",
          "text": [
            "['This is second sentence written in file \\n', ' by using the write function']\n"
          ]
        }
      ]
    },
    {
      "cell_type": "markdown",
      "source": [
        "**5. Reading CSV file**"
      ],
      "metadata": {
        "id": "wZF0NsRi_LBg"
      }
    },
    {
      "cell_type": "code",
      "source": [
        "import csv\n",
        "with open(path+'example.csv') as csvfile:\n",
        "  readcsv = csv.reader(csvfile,delimiter=',')\n",
        "  for row in readcsv:\n",
        "    print(row)"
      ],
      "metadata": {
        "id": "exnhuGjd_PTS",
        "colab": {
          "base_uri": "https://localhost:8080/"
        },
        "outputId": "69eaf795-8cec-4a03-8b58-c650b3f8a98f"
      },
      "execution_count": null,
      "outputs": [
        {
          "output_type": "stream",
          "name": "stdout",
          "text": [
            "['1/2/2022', '5', '8', 'red']\n",
            "['1/1/2021', '5', '2', 'green']\n",
            "['10/1/2022', '9', '1', 'blue']\n"
          ]
        }
      ]
    },
    {
      "cell_type": "markdown",
      "source": [
        "**6. CSV writer**"
      ],
      "metadata": {
        "id": "-ANa8fH9Bqlc"
      }
    },
    {
      "cell_type": "code",
      "source": [
        "import csv\n",
        "nms = [[1,2,3],[4,5,6],[7,8,9],[11,12,13]]\n",
        "f = open(path+'sample2.csv','w',newline = '')\n",
        "with f:\n",
        "  writer = csv.writer(f)\n",
        "  for row in nms:\n",
        "    print(row)\n",
        "    writer.writerow(row)"
      ],
      "metadata": {
        "id": "dE7J-0uWBvsw",
        "colab": {
          "base_uri": "https://localhost:8080/"
        },
        "outputId": "47667f68-12fb-4cc9-ada9-3574b3c62975"
      },
      "execution_count": null,
      "outputs": [
        {
          "output_type": "stream",
          "name": "stdout",
          "text": [
            "[1, 2, 3]\n",
            "[4, 5, 6]\n",
            "[7, 8, 9]\n",
            "[11, 12, 13]\n"
          ]
        }
      ]
    },
    {
      "cell_type": "markdown",
      "source": [
        "# Numpy"
      ],
      "metadata": {
        "id": "LzNw3WM8GLk6"
      }
    },
    {
      "cell_type": "markdown",
      "source": [
        "**Numpy** is the fundamental package for scientific computing with python."
      ],
      "metadata": {
        "id": "FBkimgjjGPbX"
      }
    },
    {
      "cell_type": "code",
      "source": [
        "import numpy as np\n",
        "\n",
        "myarray = np.array([4,3,2])\n",
        "print(f'myarray: {myarray} and data type is {type(myarray)}')\n",
        "\n",
        "float_data = np.array([4,3,2],dtype = float)\n",
        "print(f'float_data: {float_data} and data type is {type(float_data)}')\n",
        "\n",
        "#Creating n-numbers of similar object\n",
        "print(f'List of 1 of size 3 :{np.ones(3)}')\n",
        "\n",
        "print(f'Multi dimension list of zeros of size :{np.zeros((2,4))}')"
      ],
      "metadata": {
        "id": "PtOiXScZGP52",
        "colab": {
          "base_uri": "https://localhost:8080/"
        },
        "outputId": "a81c358b-0dd8-42cc-a11b-13f95a1ff315"
      },
      "execution_count": null,
      "outputs": [
        {
          "output_type": "stream",
          "name": "stdout",
          "text": [
            "myarray: [4 3 2] and data type is <class 'numpy.ndarray'>\n",
            "float_data: [4. 3. 2.] and data type is <class 'numpy.ndarray'>\n",
            "List of 1 of size 3 :[1. 1. 1.]\n",
            "Multi dimension list of zeros of size :[[0. 0. 0. 0.]\n",
            " [0. 0. 0. 0.]]\n"
          ]
        }
      ]
    },
    {
      "cell_type": "markdown",
      "source": [
        "**Operation in Numpy**"
      ],
      "metadata": {
        "id": "j2e_RAJSIHuW"
      }
    },
    {
      "cell_type": "code",
      "source": [
        "a = np.arange(10).reshape(5,2) #arange function create sequence\n",
        "\n",
        "print(f'Numpy array a :{a}')\n",
        "\n",
        "print(f'size of numpy array a :{np.size(a)}')\n",
        "\n",
        "print(f'shape of numpy array a :{np.shape(a)}')\n",
        "\n",
        "print(f'Reshaped of numpy array a :{np.reshape(a,(2,5))}')\n",
        "\n",
        "print(f'Numpy array a to 1-d :{np.ravel(a)}')\n",
        "\n",
        "print(f'transpose of numpy array a :{np.transpose(a)}')\n",
        "\n",
        "print(f' Return the index with values less than 5: {np.where(a<5)}') #Return the index where a <5\n",
        "\n",
        "print(f' Return values less than 5 :{a[np.where(a<5)]}') #Return values a<5\n"
      ],
      "metadata": {
        "id": "ZlboQe6HIGee",
        "colab": {
          "base_uri": "https://localhost:8080/"
        },
        "outputId": "8f06f7d6-d58b-41ac-f03a-8b89c63541be"
      },
      "execution_count": null,
      "outputs": [
        {
          "output_type": "stream",
          "name": "stdout",
          "text": [
            "Numpy array a :[[0 1]\n",
            " [2 3]\n",
            " [4 5]\n",
            " [6 7]\n",
            " [8 9]]\n",
            "size of numpy array a :10\n",
            "shape of numpy array a :(5, 2)\n",
            "Reshaped of numpy array a :[[0 1 2 3 4]\n",
            " [5 6 7 8 9]]\n",
            "Numpy array a to 1-d :[0 1 2 3 4 5 6 7 8 9]\n",
            "transpose of numpy array a :[[0 2 4 6 8]\n",
            " [1 3 5 7 9]]\n",
            " Return the index with values less than 5: (array([0, 0, 1, 1, 2]), array([0, 1, 0, 1, 0]))\n",
            " Return values less than 5 :[0 1 2 3 4]\n"
          ]
        }
      ]
    },
    {
      "cell_type": "markdown",
      "source": [
        "# Pandas\n",
        "Python package offers various data structures and operations for numerical and time series data."
      ],
      "metadata": {
        "id": "DaAsFGV8QtTg"
      }
    },
    {
      "cell_type": "code",
      "source": [
        "import pandas as pd\n",
        "\n",
        "dataframe = pd.read_csv(path+'employee.csv')\n",
        "dataframe.head()"
      ],
      "metadata": {
        "colab": {
          "base_uri": "https://localhost:8080/",
          "height": 206
        },
        "id": "YN2D7Yu4Ub00",
        "outputId": "641a17cb-a7ad-4a0a-ecb9-ebb6c08c5590"
      },
      "execution_count": null,
      "outputs": [
        {
          "output_type": "execute_result",
          "data": {
            "text/html": [
              "\n",
              "  <div id=\"df-13c55bcb-8031-4072-891f-2e9d94a07c2b\">\n",
              "    <div class=\"colab-df-container\">\n",
              "      <div>\n",
              "<style scoped>\n",
              "    .dataframe tbody tr th:only-of-type {\n",
              "        vertical-align: middle;\n",
              "    }\n",
              "\n",
              "    .dataframe tbody tr th {\n",
              "        vertical-align: top;\n",
              "    }\n",
              "\n",
              "    .dataframe thead th {\n",
              "        text-align: right;\n",
              "    }\n",
              "</style>\n",
              "<table border=\"1\" class=\"dataframe\">\n",
              "  <thead>\n",
              "    <tr style=\"text-align: right;\">\n",
              "      <th></th>\n",
              "      <th>Name</th>\n",
              "      <th>Age</th>\n",
              "      <th>Address</th>\n",
              "    </tr>\n",
              "  </thead>\n",
              "  <tbody>\n",
              "    <tr>\n",
              "      <th>0</th>\n",
              "      <td>Ajay</td>\n",
              "      <td>25</td>\n",
              "      <td>Kanpur</td>\n",
              "    </tr>\n",
              "    <tr>\n",
              "      <th>1</th>\n",
              "      <td>Vikash</td>\n",
              "      <td>26</td>\n",
              "      <td>Patna</td>\n",
              "    </tr>\n",
              "    <tr>\n",
              "      <th>2</th>\n",
              "      <td>Gaurav</td>\n",
              "      <td>29</td>\n",
              "      <td>Delhi</td>\n",
              "    </tr>\n",
              "    <tr>\n",
              "      <th>3</th>\n",
              "      <td>Yadav</td>\n",
              "      <td>28</td>\n",
              "      <td>Bihar</td>\n",
              "    </tr>\n",
              "    <tr>\n",
              "      <th>4</th>\n",
              "      <td>Ashish</td>\n",
              "      <td>32</td>\n",
              "      <td>Patna</td>\n",
              "    </tr>\n",
              "  </tbody>\n",
              "</table>\n",
              "</div>\n",
              "      <button class=\"colab-df-convert\" onclick=\"convertToInteractive('df-13c55bcb-8031-4072-891f-2e9d94a07c2b')\"\n",
              "              title=\"Convert this dataframe to an interactive table.\"\n",
              "              style=\"display:none;\">\n",
              "        \n",
              "  <svg xmlns=\"http://www.w3.org/2000/svg\" height=\"24px\"viewBox=\"0 0 24 24\"\n",
              "       width=\"24px\">\n",
              "    <path d=\"M0 0h24v24H0V0z\" fill=\"none\"/>\n",
              "    <path d=\"M18.56 5.44l.94 2.06.94-2.06 2.06-.94-2.06-.94-.94-2.06-.94 2.06-2.06.94zm-11 1L8.5 8.5l.94-2.06 2.06-.94-2.06-.94L8.5 2.5l-.94 2.06-2.06.94zm10 10l.94 2.06.94-2.06 2.06-.94-2.06-.94-.94-2.06-.94 2.06-2.06.94z\"/><path d=\"M17.41 7.96l-1.37-1.37c-.4-.4-.92-.59-1.43-.59-.52 0-1.04.2-1.43.59L10.3 9.45l-7.72 7.72c-.78.78-.78 2.05 0 2.83L4 21.41c.39.39.9.59 1.41.59.51 0 1.02-.2 1.41-.59l7.78-7.78 2.81-2.81c.8-.78.8-2.07 0-2.86zM5.41 20L4 18.59l7.72-7.72 1.47 1.35L5.41 20z\"/>\n",
              "  </svg>\n",
              "      </button>\n",
              "      \n",
              "  <style>\n",
              "    .colab-df-container {\n",
              "      display:flex;\n",
              "      flex-wrap:wrap;\n",
              "      gap: 12px;\n",
              "    }\n",
              "\n",
              "    .colab-df-convert {\n",
              "      background-color: #E8F0FE;\n",
              "      border: none;\n",
              "      border-radius: 50%;\n",
              "      cursor: pointer;\n",
              "      display: none;\n",
              "      fill: #1967D2;\n",
              "      height: 32px;\n",
              "      padding: 0 0 0 0;\n",
              "      width: 32px;\n",
              "    }\n",
              "\n",
              "    .colab-df-convert:hover {\n",
              "      background-color: #E2EBFA;\n",
              "      box-shadow: 0px 1px 2px rgba(60, 64, 67, 0.3), 0px 1px 3px 1px rgba(60, 64, 67, 0.15);\n",
              "      fill: #174EA6;\n",
              "    }\n",
              "\n",
              "    [theme=dark] .colab-df-convert {\n",
              "      background-color: #3B4455;\n",
              "      fill: #D2E3FC;\n",
              "    }\n",
              "\n",
              "    [theme=dark] .colab-df-convert:hover {\n",
              "      background-color: #434B5C;\n",
              "      box-shadow: 0px 1px 3px 1px rgba(0, 0, 0, 0.15);\n",
              "      filter: drop-shadow(0px 1px 2px rgba(0, 0, 0, 0.3));\n",
              "      fill: #FFFFFF;\n",
              "    }\n",
              "  </style>\n",
              "\n",
              "      <script>\n",
              "        const buttonEl =\n",
              "          document.querySelector('#df-13c55bcb-8031-4072-891f-2e9d94a07c2b button.colab-df-convert');\n",
              "        buttonEl.style.display =\n",
              "          google.colab.kernel.accessAllowed ? 'block' : 'none';\n",
              "\n",
              "        async function convertToInteractive(key) {\n",
              "          const element = document.querySelector('#df-13c55bcb-8031-4072-891f-2e9d94a07c2b');\n",
              "          const dataTable =\n",
              "            await google.colab.kernel.invokeFunction('convertToInteractive',\n",
              "                                                     [key], {});\n",
              "          if (!dataTable) return;\n",
              "\n",
              "          const docLinkHtml = 'Like what you see? Visit the ' +\n",
              "            '<a target=\"_blank\" href=https://colab.research.google.com/notebooks/data_table.ipynb>data table notebook</a>'\n",
              "            + ' to learn more about interactive tables.';\n",
              "          element.innerHTML = '';\n",
              "          dataTable['output_type'] = 'display_data';\n",
              "          await google.colab.output.renderOutput(dataTable, element);\n",
              "          const docLink = document.createElement('div');\n",
              "          docLink.innerHTML = docLinkHtml;\n",
              "          element.appendChild(docLink);\n",
              "        }\n",
              "      </script>\n",
              "    </div>\n",
              "  </div>\n",
              "  "
            ],
            "text/plain": [
              "     Name  Age Address\n",
              "0    Ajay   25  Kanpur\n",
              "1  Vikash   26   Patna\n",
              "2  Gaurav   29   Delhi\n",
              "3   Yadav   28   Bihar\n",
              "4  Ashish   32   Patna"
            ]
          },
          "metadata": {},
          "execution_count": 75
        }
      ]
    },
    {
      "cell_type": "code",
      "source": [
        "import pandas as pd  #importing pandas package\n",
        "\n",
        "data = {'Name':['Ajay','Vikash','Gaurav','Yadav'],\n",
        "        'Age':[25, 26, 29, 28],\n",
        "        'Address':['Kanpur','Patna','Delhi','Bihar']}\n",
        "\n",
        "df1 = pd.DataFrame(data)  #Converting dictionary into dataframe\n",
        "\n",
        "df1.to_csv(path+'employee_data.csv',sep=',',index = False ) # Saving dataframe as csv file\n",
        "\n",
        "print(df1)"
      ],
      "metadata": {
        "colab": {
          "base_uri": "https://localhost:8080/"
        },
        "id": "nTBVmf_zS5qH",
        "outputId": "df147693-d774-4f7f-e2b6-df45c112fca2"
      },
      "execution_count": null,
      "outputs": [
        {
          "output_type": "stream",
          "name": "stdout",
          "text": [
            "     Name  Age Address\n",
            "0    Ajay   25  Kanpur\n",
            "1  Vikash   26   Patna\n",
            "2  Gaurav   29   Delhi\n",
            "3   Yadav   28   Bihar\n"
          ]
        }
      ]
    },
    {
      "cell_type": "code",
      "source": [
        "data2 = {'Qualification':['BSc','M.Tech','M.Tech','MCA']}\n",
        "\n",
        "df2 = pd.DataFrame(data2)  #Converting dictionary into dataframe\n",
        "\n",
        "final_df = pd.concat([df1, df2], axis=1) #Concatenating the two dataframe\n",
        "\n",
        "print(final_df)"
      ],
      "metadata": {
        "colab": {
          "base_uri": "https://localhost:8080/"
        },
        "id": "mYLCRiRrVtCy",
        "outputId": "15a6f9c5-9add-49cf-c3e5-2bc271e574f9"
      },
      "execution_count": null,
      "outputs": [
        {
          "output_type": "stream",
          "name": "stdout",
          "text": [
            "     Name  Age Address Qualification\n",
            "0    Ajay   25  Kanpur           BSc\n",
            "1  Vikash   26   Patna        M.Tech\n",
            "2  Gaurav   29   Delhi        M.Tech\n",
            "3   Yadav   28   Bihar           MCA\n"
          ]
        }
      ]
    },
    {
      "cell_type": "code",
      "source": [
        "final_df['Address']= final_df['Address'].str.upper()  #Coverting and overwriting values in column\n",
        "print(final_df)"
      ],
      "metadata": {
        "colab": {
          "base_uri": "https://localhost:8080/"
        },
        "id": "g2lOQD1dXsDA",
        "outputId": "5f3354f8-7f94-447b-8531-925771c7f01a"
      },
      "execution_count": null,
      "outputs": [
        {
          "output_type": "stream",
          "name": "stdout",
          "text": [
            "     Name  Age Address Qualification\n",
            "0    Ajay   25  KANPUR           BSc\n",
            "1  Vikash   26   PATNA        M.Tech\n",
            "2  Gaurav   29   DELHI        M.Tech\n",
            "3   Yadav   28   BIHAR           MCA\n"
          ]
        }
      ]
    },
    {
      "cell_type": "code",
      "source": [
        "temp_df = final_df['Qualification'].copy()  #making copy of Qualification column\n",
        "\n",
        "final_df['Name']= final_df['Name'].str.cat(temp_df, sep =\", \") #concatenating qualification with name\n",
        "\n",
        "print(final_df)"
      ],
      "metadata": {
        "colab": {
          "base_uri": "https://localhost:8080/"
        },
        "id": "-fF1SXA1ZNnA",
        "outputId": "f4032c9c-9599-4bd1-953c-23c5fcc2ef57"
      },
      "execution_count": null,
      "outputs": [
        {
          "output_type": "stream",
          "name": "stdout",
          "text": [
            "             Name  Age Address Qualification\n",
            "0       Ajay, BSc   25  KANPUR           BSc\n",
            "1  Vikash, M.Tech   26   PATNA        M.Tech\n",
            "2  Gaurav, M.Tech   29   DELHI        M.Tech\n",
            "3      Yadav, MCA   28   BIHAR           MCA\n"
          ]
        }
      ]
    },
    {
      "cell_type": "code",
      "source": [
        " #Data\n",
        "import pandas as pd\n",
        "import numpy as np\n",
        "\n",
        "nan_data = pd.DataFrame({\"A\":[12, 4, 5, None, 1], \n",
        "                   \"B\":[None, 2, 54, 3, np.nan], \n",
        "                   \"C\":[20, 16, 43, 3, 8], \n",
        "                   \"D\":[14, 3, None, np.nan, 6]}) \n",
        "\n",
        "print(nan_data)"
      ],
      "metadata": {
        "id": "c3hMpl67rKyP",
        "colab": {
          "base_uri": "https://localhost:8080/"
        },
        "outputId": "236a2699-0ac9-475a-9444-691850e61b27"
      },
      "execution_count": null,
      "outputs": [
        {
          "output_type": "stream",
          "name": "stdout",
          "text": [
            "      A     B   C     D\n",
            "0  12.0   NaN  20  14.0\n",
            "1   4.0   2.0  16   3.0\n",
            "2   5.0  54.0  43   NaN\n",
            "3   NaN   3.0   3   NaN\n",
            "4   1.0   NaN   8   6.0\n"
          ]
        }
      ]
    },
    {
      "cell_type": "code",
      "source": [
        "data_nan = nan_data.dropna()  #Removing the row having atleast single nan value\n",
        "print(data_nan)"
      ],
      "metadata": {
        "colab": {
          "base_uri": "https://localhost:8080/"
        },
        "id": "oNbu2UBHuoIK",
        "outputId": "458c4808-2f85-4312-a670-2eca606236cf"
      },
      "execution_count": null,
      "outputs": [
        {
          "output_type": "stream",
          "name": "stdout",
          "text": [
            "     A    B   C    D\n",
            "1  4.0  2.0  16  3.0\n"
          ]
        }
      ]
    },
    {
      "cell_type": "code",
      "source": [
        "fill_nan = nan_data.fillna(0)  #Filling all the nan value with zeros\n",
        "print(fill_nan)"
      ],
      "metadata": {
        "colab": {
          "base_uri": "https://localhost:8080/"
        },
        "id": "V20-3KbQvGyM",
        "outputId": "684d2952-99c1-4f23-fc86-9a48c82ba57d"
      },
      "execution_count": null,
      "outputs": [
        {
          "output_type": "stream",
          "name": "stdout",
          "text": [
            "      A     B   C     D\n",
            "0  12.0   0.0  20  14.0\n",
            "1   4.0   2.0  16   3.0\n",
            "2   5.0  54.0  43   0.0\n",
            "3   0.0   3.0   3   0.0\n",
            "4   1.0   0.0   8   6.0\n"
          ]
        }
      ]
    }
  ]
}